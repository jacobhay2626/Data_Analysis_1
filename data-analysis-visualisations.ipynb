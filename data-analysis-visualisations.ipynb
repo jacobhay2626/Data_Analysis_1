{
 "cells": [
  {
   "cell_type": "markdown",
   "id": "b8cdc0d1",
   "metadata": {
    "papermill": {
     "duration": 0.008018,
     "end_time": "2024-05-29T21:13:02.932821",
     "exception": false,
     "start_time": "2024-05-29T21:13:02.924803",
     "status": "completed"
    },
    "tags": []
   },
   "source": [
    "#### This is a simple data analysis notebook. I am going to go over simple data analysis concepts and then do some data exploration of my own on a dataset! \n",
    "In this notebook: \n",
    "\n",
    "* Data Types\n",
    "* Data structures\n",
    "* Data cleaning\n",
    "* Data Transformations\n",
    "* Data Mining\n",
    "* Data exploration\n",
    "* descriptive statistics \n",
    "* inferential statistics \n"
   ]
  },
  {
   "cell_type": "markdown",
   "id": "ac2dbd5b",
   "metadata": {
    "papermill": {
     "duration": 0.007525,
     "end_time": "2024-05-29T21:13:02.948582",
     "exception": false,
     "start_time": "2024-05-29T21:13:02.941057",
     "status": "completed"
    },
    "tags": []
   },
   "source": [
    "# **Data Types**\n",
    "\n",
    "Knowing what data types make up your dataset is essential as it will allow you to choose the right visualisation methods and how to analyse that data. \n",
    "Data types can be thought of as different ways to categorize different types of variables. \n",
    "\n",
    "### Categorical Data \n",
    "\n",
    "Categorical data represents characteristics, it can represent things like gender, language, race etc. however it can also take on numerical values. \n",
    "\n",
    "### Nominal data \n",
    "Nominal values represent discrete units and are used to label variables that have no quantitative value. Nominal data has no order, therefore if you would change the order of its values, the meaning would not change. For example: \"Are you married? Yes or No\" The yes/no variables would be examples of nominal data. \n",
    "\n",
    "### Ordinal Data \n",
    "Ordinal values represent discret and ordered units, it is therefore nearly the same as nominal data, except that its ordering matters. For example in a job application they may ask your highest level of eduction: 1. Secondary school 2. College, 3. Undergrad, 4. Post grad. \n",
    "\n",
    "\n",
    "## Numerical data \n",
    "1. Discrete Data \n",
    "Discrete data has distinct and separate values. We speak of discrete data if the data can only take on certain values. This type of data can only take certain values, and it cannot be measured but it can be counted. \n",
    "\n",
    "2. Continuous data \n",
    "Continuous data represents measurements and therefore their values cannot be counted but they can be measured. For example, the height of an individual or a range of temperatures on a given day. \n",
    "\n",
    "* Interval data\n",
    "\n",
    "Interval values represent ordered units that have the same difference. Therefore we speak of interval data when we have a variable that contains numeric values that are ordered and where we know the exact differences between the values. An example would again be a range of temperatures in a location, the problem with interval values is that they do not have a true zero. Meaning in regards to the example, there is no such thing as no temperature. \n",
    "\n",
    "* Ratio data \n",
    "\n",
    "Ratio values are also ordered units that have the same difference. They are the same as interval values, with the difference that they do have an absolute zero. Good examples are height, weight, and length. \n",
    "\n"
   ]
  },
  {
   "cell_type": "markdown",
   "id": "26cd4698",
   "metadata": {
    "papermill": {
     "duration": 0.007692,
     "end_time": "2024-05-29T21:13:02.963894",
     "exception": false,
     "start_time": "2024-05-29T21:13:02.956202",
     "status": "completed"
    },
    "tags": []
   },
   "source": [
    "# **Data Structures**"
   ]
  },
  {
   "cell_type": "markdown",
   "id": "aee199b1",
   "metadata": {
    "papermill": {
     "duration": 0.007363,
     "end_time": "2024-05-29T21:13:02.978965",
     "exception": false,
     "start_time": "2024-05-29T21:13:02.971602",
     "status": "completed"
    },
    "tags": []
   },
   "source": [
    "Data structures are components that help organise and store data efficiently in computer memory. They provide us with a way to manage and manipulate data effectively, enabling faster access, insertion, and deletion oeprations. \n",
    "\n",
    "Common data structures include arrays, linked lists, stacks, queues, trees, and graphs, each serving specific purposes based on the requirements. \n",
    "\n",
    "### Classification of data structures \n",
    "\n",
    "#### *  Linear data structures\n",
    "\n",
    "These structures store data in a sequential order thus allowing for easy insertion and deletion operations. Examples include arrays, linked lists, and queues. \n",
    "\n",
    "* **Array**\n",
    "A collection of elements of the same type stored in contiguous memory locations\n",
    "\n",
    "* **Linked Lists**\n",
    "A colelction of elements linked together by pointers, allowing for dynamic insertion and deletion. \n",
    "\n",
    "* **Queues**\n",
    "A First-In-First-Out structure where elements are added at the end and removed from the beginning\n",
    "\n",
    "* **Stack**\n",
    "A Last-In-First-Out structure where elements are added and removed from the top\n",
    "\n",
    "#### * Non-Linear Data Structures \n",
    "\n",
    "These structures store data in a hierarchical or interconnected manner allowing for more complex relationships between data elements. Examples include trees, graphs, and hash tables. \n",
    "\n",
    "* **Tree**\n",
    "A hierarchical structure where each node can have multiple child nodes. \n",
    "\n",
    "* **Graph** \n",
    "A collection of nodes connected by edges, representing relationships between data elements. \n",
    "\n",
    "* **Hash Table** \n",
    "A data strcuture that uses a hash function to map keys to values, allowing for fast lookup and insertion\n",
    "\n",
    "#### Applications of Data Structures\n",
    "\n",
    "* Database Management Systems: To store and manage large amounts of structural data \n",
    "* Operating Systems: To manage memory, processes, and files\n",
    "* Compiler Design: To represent source code and intermediate code\n",
    "* Artificial Intelligence: To represent knowledge and perform reasoning \n",
    "* Graphics and Multimedia: To store and process images, videos, and audio data. \n",
    "\n",
    "\n"
   ]
  },
  {
   "cell_type": "markdown",
   "id": "e70b35b6",
   "metadata": {
    "papermill": {
     "duration": 0.007615,
     "end_time": "2024-05-29T21:13:02.994099",
     "exception": false,
     "start_time": "2024-05-29T21:13:02.986484",
     "status": "completed"
    },
    "tags": []
   },
   "source": [
    "# **Data Cleaning** "
   ]
  },
  {
   "cell_type": "markdown",
   "id": "f52e5249",
   "metadata": {
    "papermill": {
     "duration": 0.007449,
     "end_time": "2024-05-29T21:13:03.009194",
     "exception": false,
     "start_time": "2024-05-29T21:13:03.001745",
     "status": "completed"
    },
    "tags": []
   },
   "source": [
    "Data cleaning is the process of fixing or removing incorrect, corrupted, incorrectly formatted, duplicate, or incomplete data within a dataset. When combining multiple data sources, there are a lot of opportunities for data to be duplicated or mislabelled, especially when you start using large datasets. If data is incorrect, the outcomes and algorithms you use are completely unreliable, even if they may look correct (which might be even more concerning). There is no exact way to clean a dataset because it is very circumstantial. \n",
    "\n",
    "A common misconception that I also had before reading into data analysis more was that data transformation and data cleaning are the same thing, they are most definitely not. Cleaning is the process of removing any data that doesnt belong in your dataset, it will likely involve identifying any correlating features and spotting any outliers. Transformation is the process of converting data from one format or structure into another. Transformation processes are also referred to as data wrangling, or data munging, transforming and mapping data from one 'raw' data form into another format for warehousing and analysing. "
   ]
  },
  {
   "cell_type": "markdown",
   "id": "591e3dfe",
   "metadata": {
    "papermill": {
     "duration": 0.008383,
     "end_time": "2024-05-29T21:13:03.025259",
     "exception": false,
     "start_time": "2024-05-29T21:13:03.016876",
     "status": "completed"
    },
    "tags": []
   },
   "source": [
    "### Steps in cleaning your data\n",
    "\n",
    "* Step 1 Removing duplicate or irrelevant observations\n",
    "\n",
    "Remove unwanted observations from your dataset, duplications will happen most often during data collection. When you combine data sets, from multiple places, scrape data, or receive data from clients or multiple departments, there are opportunities to create duplicate data. By removing these data points, this can make your analysis more efficient and minimize distraction from your primary target, as well as creating more performant dataset. \n",
    "\n",
    "* Step 2 Fix Structural errors\n",
    "\n",
    "Structural errors are when you measure or transfer data and notice strange naming conventions, types, or incorrect capitalization.\n",
    "\n",
    "* Step 3 Filter unwanted outliers\n",
    "\n",
    "This is an important step and crucially involves determining validity of that number. Just because an outlier exists, doesnt mean it is incorrect. An outlier should only be removed when it has been proven to be irrelevant for analysis or is a mistake. \n",
    "\n",
    "* Step 4 Handle missing data \n",
    "\n",
    "Missing data cannot be ignored as most algorithms you will use will not accept any missing values. There are two ways of dealing with missing data, neither are optimal but both can be considerred: \n",
    "1. Drop observations that have missing values, however doing this will drop or lose information, so be mindful of this before removing. \n",
    "2. You can input missing values based on other observations, this could again result in loss of integrity in your data. \n",
    "3. You may also alter the way the data is used to effectively navigate null values. \n",
    "\n",
    "* Step 5 Validate and QA\n",
    "At the end of the process your data should: make sense, follow the appropriate rules for its field, be able to prove or disprove your working theory, show any trends to help form a new theory. \n",
    "\n",
    "\n",
    "#### Components of a quality dataset \n",
    "\n",
    "1. Validity: the amount your data conforms to defined business rules or constraints. \n",
    "2. Accuracy: ensure your data is close to the true values. \n",
    "3. Completeness: The degree to which all the required data is known\n",
    "4. Consistency: ensure the data is consistent within the same dataset\n",
    "5. Uniformity: Ensure there is consitency in the units of measurement."
   ]
  },
  {
   "cell_type": "markdown",
   "id": "449e330b",
   "metadata": {
    "papermill": {
     "duration": 0.008083,
     "end_time": "2024-05-29T21:13:03.040919",
     "exception": false,
     "start_time": "2024-05-29T21:13:03.032836",
     "status": "completed"
    },
    "tags": []
   },
   "source": [
    "# **Data Transformation**\n",
    "\n",
    "Data Transformation refers to the process of converting the format or structure of a dataset to match that of a target system. The whole process does include some data cleaning but is also composed of validating and preparing your data. This process is essential for data integration, migration, and warehousing, and to turn data into a resource for analysis, insights and model training. \n",
    "\n",
    "## The Process: \n",
    "1. Data Discovery and Interpretation: \n",
    "* Understand the types of data you currently have from different sources and determine what format it needs to be transformed into. \n",
    "* Consider file extensions, but also look deeper into the actual data structure to avoid assumptions. \n",
    "* Identify the target format for the transformed data. \n",
    "\n",
    "2. Pre-Translation Data Quality Check\n",
    "* Verify the quality of your data \n",
    "\n",
    "3. Data mapping and Code Development \n",
    "* Map the source data fields to their corresponding fields in the target format\n",
    "* Use tools or develop scripts to perform the necessary tranformations\n",
    "\n",
    "4. Code Execution and Validation\n",
    "* Execute the transformation code or processes (Aggregations, calculations, filtering) to align the data with the desired format. \n",
    "* Validate the transformed data and data model to ensure the correctness and consistency\n",
    "* Address any discrepencies or errors that arise during this step. \n",
    "\n",
    "5. Data review and Documentation\n",
    "* Review the transformed data to confirm its accuracy and completeness\n",
    "\n",
    "\n",
    "## Some Types of Data Transformation\n",
    "1. Normalization: Scale numerical features to a common range (0 to 1). this ensures consistent magnitudes across features, aiding machine learnign models in particular. \n",
    "2. Data Validation: Ensure data correctness by verifying data types, formats, accuracy, consistency, and uniqueness. Its a crucial step to prevent flawed results in data analysis and machine learning. \n",
    "3. Format Conversion: Change the representation of data from one format to another. \n",
    "4. Power Transform: Use mathematical principles to stabilize variance and make data distributions more Gaussian-like, which is again, essential for machine learning algorithms. \n",
    "5. Smoothing: Reduce noise in time series data by applying moving averages or exponential smoothing. \n",
    "\n",
    "#### Advantages of Data Transformation \n",
    "\n",
    "* Improved Data Quality \n",
    "* Enhanced Accessibility: Properly transformed data becomes more accessible to both computers and end-users. \n",
    "* Efficient Decision Making: Supports business intelligence and data driven decision-making\n",
    "* Time and cost savings: Automating transformation processes reduces manual effort and saves time. \n",
    "\n",
    "#### Challenges \n",
    "\n",
    "* Growing complexity \n",
    "* Ensuring data quality\n",
    "* Performance overheads\n",
    "* Securing data \n",
    "* Tool selection\n"
   ]
  },
  {
   "cell_type": "markdown",
   "id": "162e7220",
   "metadata": {
    "papermill": {
     "duration": 0.007198,
     "end_time": "2024-05-29T21:13:03.055863",
     "exception": false,
     "start_time": "2024-05-29T21:13:03.048665",
     "status": "completed"
    },
    "tags": []
   },
   "source": [
    "# Data Mining\n",
    "\n",
    "Data mining is the process of searching and analysing a large batch of raw data in order to identify patterns and extract useful information. Companies will often use data mining to learn more about their customers, it can help them to develop more effective marketing strategies, increase sales, and decrease costs. \n",
    "\n",
    "## How it works\n",
    "\n",
    "1. Data is collected and loaded into data warehouses on site or on a cloud service \n",
    "2. Business analysts, management teams, and information technology professionals access the data and determine how they want to organise it.\n",
    "3. Custom application software sorts and organises the data\n",
    "4. The end user presents the data in an easy to share format. \n",
    "\n",
    "## Techniques \n",
    "* Association rules\n",
    "* Classification\n",
    "* Clustering\n",
    "* Decision Trees\n",
    "* K Nearest Neighbour \n",
    "* Neural Networks\n",
    "* Predictive Analysis\n",
    "\n",
    "## The process\n",
    "\n",
    "1. Understand the business\n",
    "2. Understand the data \n",
    "3. Prepare the data \n",
    "4. Build the model \n",
    "5. Evaluate the results\n",
    "6. Implement change and monitor\n"
   ]
  },
  {
   "cell_type": "markdown",
   "id": "ba7d67ac",
   "metadata": {
    "papermill": {
     "duration": 0.007255,
     "end_time": "2024-05-29T21:13:03.070791",
     "exception": false,
     "start_time": "2024-05-29T21:13:03.063536",
     "status": "completed"
    },
    "tags": []
   },
   "source": [
    "# Data Exploration \n",
    "\n",
    "This is the first stage in data analysis involving data visualisation tools and statistical techniques to uncover data set characteristics and initial patterns. \n",
    "\n",
    "During this stage, raw data is reviewed with a combination of manual workflows and automated techniques, this usually involves looking for similarities, patterns and outlier, and crucially identifying any correlation between your variables. \n",
    "\n",
    "### How does it work??\n",
    "\n",
    "1. Looking for patterns and relationships between data types: We want to reveal any patterns within datasets that provide us additional meaning and insights. These insights could lead to using the data to explain past events, facilitate predictive modelling and select the next best course of action!\n",
    "In Machine Learning specifically: \n",
    "1. Identify all variables in the data set \n",
    "2. Conduct univariate analysis for single variables, this could involve using histograms, box plot or scatter plot. Bar charts can also be used for categorical data. \n",
    "3. Conduct bivariate analysis to determine the relationship between pairs of variables. \n",
    "4. Account for any missing values and outliers. "
   ]
  },
  {
   "cell_type": "markdown",
   "id": "7c8ebee9",
   "metadata": {
    "papermill": {
     "duration": 0.007313,
     "end_time": "2024-05-29T21:13:03.085626",
     "exception": false,
     "start_time": "2024-05-29T21:13:03.078313",
     "status": "completed"
    },
    "tags": []
   },
   "source": [
    "# Descriptive Statistics\n",
    "\n",
    "These are brief informational coefficients that summarize a given dataset, which can be either a representation of the entire population or a sample of a population. They can be be broken down into measures of central tendency (mean, median, and mode) and measures of variability (standard deviation, variance, min and max, kurtosis, and skewness.)\n",
    "\n",
    "These statistics help describe the features of your dataset, and give short summaries about the sample and measures of the data. \n",
    "\n",
    "### Univariate vs Bivariate: \n",
    "\n",
    "Univariate data analyzes only one variable. It can be used to identify characteristics of a single trait and is not used to analyse a relationship. \n",
    "Bivariate data attempts to link two variables by searching for correlation. Two types of data are collected, and the relationship between the pieces of information is analysed together. As multiple variables are analysed together, this approach may also be referred to as multivariate. \n",
    "\n",
    "### Visualisations \n",
    "\n",
    "Histograms are tools for displaying the distribution of numerical data. They divide the data into intervals and represent the frequency of data points falling into each bin through bars of varying heights. They are useful for identifying the shape of distributions, central tendency, and variability of the data. \n",
    "\n",
    "Another visualisation is box plots. Box plots provide a concise summary of a data distribution by highlighting key summary statistics, including the median, quartiles, and potential outliers. \n",
    "\n",
    "### Outliers\n",
    "\n",
    "A final note on descriptive statistics involves outliers, detecting and managing these outliers is essential as discussed earlier in this notebook. Identifying outliers can invole graphical techniques (box plots or scatter plots) or statistical methods (Z-score or IQR method) "
   ]
  },
  {
   "cell_type": "markdown",
   "id": "4fc192d7",
   "metadata": {
    "papermill": {
     "duration": 0.007192,
     "end_time": "2024-05-29T21:13:03.100245",
     "exception": false,
     "start_time": "2024-05-29T21:13:03.093053",
     "status": "completed"
    },
    "tags": []
   },
   "source": [
    "# Inferential Statistics \n",
    "\n",
    "Inferential statistics help you come to conclusions and make predictions based on your data. \n",
    "Two main uses:\n",
    "* making estimates about populations \n",
    "* testing hypotheses\n",
    "\n",
    "Depending on the circumstances, it is often much easier and cheaper to collect data from a sample rather than trying to collect data from a huge population. We then use inferential statistics to make reasonable guesses about the larger population. It is important to use random and unbiased sampling methods to ensure your sample is representative of the population. \n",
    "\n",
    "## Hypothesis Testing \n",
    "\n",
    "Compare populations or assess relationships between variables using samples. We use statistical tests, which can also estimate sampling errors so that valid inferences can be made. These statistical tests can be parametric or non-parametric. Parametric tests are considered more powerful, and they make assumptions that include the following: \n",
    "* The population that the sample comes from follows a normal distribution of scores. \n",
    "* The sample size is large enough to represent the popoulation\n",
    "* The variances of each group being compared are similar. \n",
    "\n",
    "If your data violates any of these, you need to use non-parametric tests. \n",
    "\n",
    "## Statistical Tests \n",
    "\n",
    "### Comparison Tests\n",
    "\n",
    "Assess whether there are differences in means, medians, or rankings of scores of two or more groups. Means can only be found for interval or ratio data, while medians and rankings are more appropriate measures for ordinal data. \n",
    "\n",
    "### Correlation Tests \n",
    "\n",
    "Determine the extent to which two variables are associated. \n",
    "\n",
    "### Regression Tests \n",
    "\n",
    "Demonstrate whether changes in predictor variables cause changes in an outcome variable. "
   ]
  },
  {
   "cell_type": "markdown",
   "id": "dce401b3",
   "metadata": {
    "papermill": {
     "duration": 0.00713,
     "end_time": "2024-05-29T21:13:03.114962",
     "exception": false,
     "start_time": "2024-05-29T21:13:03.107832",
     "status": "completed"
    },
    "tags": []
   },
   "source": [
    "# Application to a real world data set"
   ]
  },
  {
   "cell_type": "markdown",
   "id": "6892d35e",
   "metadata": {
    "papermill": {
     "duration": 0.007243,
     "end_time": "2024-05-29T21:13:03.129608",
     "exception": false,
     "start_time": "2024-05-29T21:13:03.122365",
     "status": "completed"
    },
    "tags": []
   },
   "source": [
    "This is a happiness dataset, it contains 2199 rows where each row contains various happiness related metrics for different countries. "
   ]
  },
  {
   "cell_type": "markdown",
   "id": "403d14ec",
   "metadata": {
    "papermill": {
     "duration": 0.007071,
     "end_time": "2024-05-29T21:13:03.144126",
     "exception": false,
     "start_time": "2024-05-29T21:13:03.137055",
     "status": "completed"
    },
    "tags": []
   },
   "source": [
    "I will apply the steps I outlined above to describe this dataset. "
   ]
  },
  {
   "cell_type": "code",
   "execution_count": 1,
   "id": "7465ed3b",
   "metadata": {
    "execution": {
     "iopub.execute_input": "2024-05-29T21:13:03.160947Z",
     "iopub.status.busy": "2024-05-29T21:13:03.160455Z",
     "iopub.status.idle": "2024-05-29T21:13:05.297846Z",
     "shell.execute_reply": "2024-05-29T21:13:05.296778Z"
    },
    "papermill": {
     "duration": 2.149362,
     "end_time": "2024-05-29T21:13:05.300945",
     "exception": false,
     "start_time": "2024-05-29T21:13:03.151583",
     "status": "completed"
    },
    "tags": []
   },
   "outputs": [],
   "source": [
    "import pandas as pd\n",
    "import numpy as np\n",
    "import matplotlib.pyplot as plt\n",
    "import seaborn as sns\n",
    "\n",
    "%matplotlib inline"
   ]
  },
  {
   "cell_type": "code",
   "execution_count": 2,
   "id": "464931f7",
   "metadata": {
    "execution": {
     "iopub.execute_input": "2024-05-29T21:13:05.318828Z",
     "iopub.status.busy": "2024-05-29T21:13:05.318294Z",
     "iopub.status.idle": "2024-05-29T21:13:05.346972Z",
     "shell.execute_reply": "2024-05-29T21:13:05.346089Z"
    },
    "papermill": {
     "duration": 0.040573,
     "end_time": "2024-05-29T21:13:05.349312",
     "exception": false,
     "start_time": "2024-05-29T21:13:05.308739",
     "status": "completed"
    },
    "tags": []
   },
   "outputs": [],
   "source": [
    "df = pd.read_csv(\"/kaggle/input/dataset-1/DataForTable2.1.csv\")"
   ]
  },
  {
   "cell_type": "markdown",
   "id": "f1208c0e",
   "metadata": {
    "papermill": {
     "duration": 0.007262,
     "end_time": "2024-05-29T21:13:05.364152",
     "exception": false,
     "start_time": "2024-05-29T21:13:05.356890",
     "status": "completed"
    },
    "tags": []
   },
   "source": [
    "### Data types"
   ]
  },
  {
   "cell_type": "code",
   "execution_count": 3,
   "id": "f3d5dbce",
   "metadata": {
    "execution": {
     "iopub.execute_input": "2024-05-29T21:13:05.381388Z",
     "iopub.status.busy": "2024-05-29T21:13:05.380640Z",
     "iopub.status.idle": "2024-05-29T21:13:05.411369Z",
     "shell.execute_reply": "2024-05-29T21:13:05.410177Z"
    },
    "papermill": {
     "duration": 0.042262,
     "end_time": "2024-05-29T21:13:05.413975",
     "exception": false,
     "start_time": "2024-05-29T21:13:05.371713",
     "status": "completed"
    },
    "tags": []
   },
   "outputs": [
    {
     "data": {
      "text/html": [
       "<div>\n",
       "<style scoped>\n",
       "    .dataframe tbody tr th:only-of-type {\n",
       "        vertical-align: middle;\n",
       "    }\n",
       "\n",
       "    .dataframe tbody tr th {\n",
       "        vertical-align: top;\n",
       "    }\n",
       "\n",
       "    .dataframe thead th {\n",
       "        text-align: right;\n",
       "    }\n",
       "</style>\n",
       "<table border=\"1\" class=\"dataframe\">\n",
       "  <thead>\n",
       "    <tr style=\"text-align: right;\">\n",
       "      <th></th>\n",
       "      <th>Country name</th>\n",
       "      <th>year</th>\n",
       "      <th>Life Ladder</th>\n",
       "      <th>Log GDP per capita</th>\n",
       "      <th>Social support</th>\n",
       "      <th>Healthy life expectancy at birth</th>\n",
       "      <th>Freedom to make life choices</th>\n",
       "      <th>Generosity</th>\n",
       "      <th>Perceptions of corruption</th>\n",
       "      <th>Positive affect</th>\n",
       "      <th>Negative affect</th>\n",
       "    </tr>\n",
       "  </thead>\n",
       "  <tbody>\n",
       "    <tr>\n",
       "      <th>0</th>\n",
       "      <td>Afghanistan</td>\n",
       "      <td>2008</td>\n",
       "      <td>3.724</td>\n",
       "      <td>7.350</td>\n",
       "      <td>0.451</td>\n",
       "      <td>50.5</td>\n",
       "      <td>0.718</td>\n",
       "      <td>0.164</td>\n",
       "      <td>0.882</td>\n",
       "      <td>0.414</td>\n",
       "      <td>0.258</td>\n",
       "    </tr>\n",
       "    <tr>\n",
       "      <th>1</th>\n",
       "      <td>Afghanistan</td>\n",
       "      <td>2009</td>\n",
       "      <td>4.402</td>\n",
       "      <td>7.509</td>\n",
       "      <td>0.552</td>\n",
       "      <td>50.8</td>\n",
       "      <td>0.679</td>\n",
       "      <td>0.187</td>\n",
       "      <td>0.850</td>\n",
       "      <td>0.481</td>\n",
       "      <td>0.237</td>\n",
       "    </tr>\n",
       "    <tr>\n",
       "      <th>2</th>\n",
       "      <td>Afghanistan</td>\n",
       "      <td>2010</td>\n",
       "      <td>4.758</td>\n",
       "      <td>7.614</td>\n",
       "      <td>0.539</td>\n",
       "      <td>51.1</td>\n",
       "      <td>0.600</td>\n",
       "      <td>0.118</td>\n",
       "      <td>0.707</td>\n",
       "      <td>0.517</td>\n",
       "      <td>0.275</td>\n",
       "    </tr>\n",
       "    <tr>\n",
       "      <th>3</th>\n",
       "      <td>Afghanistan</td>\n",
       "      <td>2011</td>\n",
       "      <td>3.832</td>\n",
       "      <td>7.581</td>\n",
       "      <td>0.521</td>\n",
       "      <td>51.4</td>\n",
       "      <td>0.496</td>\n",
       "      <td>0.160</td>\n",
       "      <td>0.731</td>\n",
       "      <td>0.480</td>\n",
       "      <td>0.267</td>\n",
       "    </tr>\n",
       "    <tr>\n",
       "      <th>4</th>\n",
       "      <td>Afghanistan</td>\n",
       "      <td>2012</td>\n",
       "      <td>3.783</td>\n",
       "      <td>7.661</td>\n",
       "      <td>0.521</td>\n",
       "      <td>51.7</td>\n",
       "      <td>0.531</td>\n",
       "      <td>0.234</td>\n",
       "      <td>0.776</td>\n",
       "      <td>0.614</td>\n",
       "      <td>0.268</td>\n",
       "    </tr>\n",
       "  </tbody>\n",
       "</table>\n",
       "</div>"
      ],
      "text/plain": [
       "  Country name  year  Life Ladder  Log GDP per capita  Social support  \\\n",
       "0  Afghanistan  2008        3.724               7.350           0.451   \n",
       "1  Afghanistan  2009        4.402               7.509           0.552   \n",
       "2  Afghanistan  2010        4.758               7.614           0.539   \n",
       "3  Afghanistan  2011        3.832               7.581           0.521   \n",
       "4  Afghanistan  2012        3.783               7.661           0.521   \n",
       "\n",
       "   Healthy life expectancy at birth  Freedom to make life choices  Generosity  \\\n",
       "0                              50.5                         0.718       0.164   \n",
       "1                              50.8                         0.679       0.187   \n",
       "2                              51.1                         0.600       0.118   \n",
       "3                              51.4                         0.496       0.160   \n",
       "4                              51.7                         0.531       0.234   \n",
       "\n",
       "   Perceptions of corruption  Positive affect  Negative affect  \n",
       "0                      0.882            0.414            0.258  \n",
       "1                      0.850            0.481            0.237  \n",
       "2                      0.707            0.517            0.275  \n",
       "3                      0.731            0.480            0.267  \n",
       "4                      0.776            0.614            0.268  "
      ]
     },
     "execution_count": 3,
     "metadata": {},
     "output_type": "execute_result"
    }
   ],
   "source": [
    "# First going to display the dataset\n",
    "df.head()"
   ]
  },
  {
   "cell_type": "markdown",
   "id": "60078198",
   "metadata": {
    "papermill": {
     "duration": 0.007517,
     "end_time": "2024-05-29T21:13:05.429587",
     "exception": false,
     "start_time": "2024-05-29T21:13:05.422070",
     "status": "completed"
    },
    "tags": []
   },
   "source": [
    "As you can see the dataset is dominated by continuous numerical data, with a single column of discrete numerical data (year)\n",
    "For convenience I am going to rename the columns to replace the spaces with underscores and make them lower case. "
   ]
  },
  {
   "cell_type": "code",
   "execution_count": 4,
   "id": "aa50654a",
   "metadata": {
    "execution": {
     "iopub.execute_input": "2024-05-29T21:13:05.447211Z",
     "iopub.status.busy": "2024-05-29T21:13:05.446823Z",
     "iopub.status.idle": "2024-05-29T21:13:05.465062Z",
     "shell.execute_reply": "2024-05-29T21:13:05.463987Z"
    },
    "papermill": {
     "duration": 0.029697,
     "end_time": "2024-05-29T21:13:05.467154",
     "exception": false,
     "start_time": "2024-05-29T21:13:05.437457",
     "status": "completed"
    },
    "tags": []
   },
   "outputs": [
    {
     "data": {
      "text/html": [
       "<div>\n",
       "<style scoped>\n",
       "    .dataframe tbody tr th:only-of-type {\n",
       "        vertical-align: middle;\n",
       "    }\n",
       "\n",
       "    .dataframe tbody tr th {\n",
       "        vertical-align: top;\n",
       "    }\n",
       "\n",
       "    .dataframe thead th {\n",
       "        text-align: right;\n",
       "    }\n",
       "</style>\n",
       "<table border=\"1\" class=\"dataframe\">\n",
       "  <thead>\n",
       "    <tr style=\"text-align: right;\">\n",
       "      <th></th>\n",
       "      <th>country_name</th>\n",
       "      <th>year</th>\n",
       "      <th>life_ladder</th>\n",
       "      <th>log_gdp_per_capita</th>\n",
       "      <th>social_support</th>\n",
       "      <th>healthy_life_expectancy_at_birth</th>\n",
       "      <th>freedom_to_make_life_choices</th>\n",
       "      <th>generosity</th>\n",
       "      <th>perceptions_of_corruption</th>\n",
       "      <th>positive_affect</th>\n",
       "      <th>negative_affect</th>\n",
       "    </tr>\n",
       "  </thead>\n",
       "  <tbody>\n",
       "    <tr>\n",
       "      <th>0</th>\n",
       "      <td>Afghanistan</td>\n",
       "      <td>2008</td>\n",
       "      <td>3.724</td>\n",
       "      <td>7.350</td>\n",
       "      <td>0.451</td>\n",
       "      <td>50.5</td>\n",
       "      <td>0.718</td>\n",
       "      <td>0.164</td>\n",
       "      <td>0.882</td>\n",
       "      <td>0.414</td>\n",
       "      <td>0.258</td>\n",
       "    </tr>\n",
       "    <tr>\n",
       "      <th>1</th>\n",
       "      <td>Afghanistan</td>\n",
       "      <td>2009</td>\n",
       "      <td>4.402</td>\n",
       "      <td>7.509</td>\n",
       "      <td>0.552</td>\n",
       "      <td>50.8</td>\n",
       "      <td>0.679</td>\n",
       "      <td>0.187</td>\n",
       "      <td>0.850</td>\n",
       "      <td>0.481</td>\n",
       "      <td>0.237</td>\n",
       "    </tr>\n",
       "    <tr>\n",
       "      <th>2</th>\n",
       "      <td>Afghanistan</td>\n",
       "      <td>2010</td>\n",
       "      <td>4.758</td>\n",
       "      <td>7.614</td>\n",
       "      <td>0.539</td>\n",
       "      <td>51.1</td>\n",
       "      <td>0.600</td>\n",
       "      <td>0.118</td>\n",
       "      <td>0.707</td>\n",
       "      <td>0.517</td>\n",
       "      <td>0.275</td>\n",
       "    </tr>\n",
       "    <tr>\n",
       "      <th>3</th>\n",
       "      <td>Afghanistan</td>\n",
       "      <td>2011</td>\n",
       "      <td>3.832</td>\n",
       "      <td>7.581</td>\n",
       "      <td>0.521</td>\n",
       "      <td>51.4</td>\n",
       "      <td>0.496</td>\n",
       "      <td>0.160</td>\n",
       "      <td>0.731</td>\n",
       "      <td>0.480</td>\n",
       "      <td>0.267</td>\n",
       "    </tr>\n",
       "    <tr>\n",
       "      <th>4</th>\n",
       "      <td>Afghanistan</td>\n",
       "      <td>2012</td>\n",
       "      <td>3.783</td>\n",
       "      <td>7.661</td>\n",
       "      <td>0.521</td>\n",
       "      <td>51.7</td>\n",
       "      <td>0.531</td>\n",
       "      <td>0.234</td>\n",
       "      <td>0.776</td>\n",
       "      <td>0.614</td>\n",
       "      <td>0.268</td>\n",
       "    </tr>\n",
       "  </tbody>\n",
       "</table>\n",
       "</div>"
      ],
      "text/plain": [
       "  country_name  year  life_ladder  log_gdp_per_capita  social_support  \\\n",
       "0  Afghanistan  2008        3.724               7.350           0.451   \n",
       "1  Afghanistan  2009        4.402               7.509           0.552   \n",
       "2  Afghanistan  2010        4.758               7.614           0.539   \n",
       "3  Afghanistan  2011        3.832               7.581           0.521   \n",
       "4  Afghanistan  2012        3.783               7.661           0.521   \n",
       "\n",
       "   healthy_life_expectancy_at_birth  freedom_to_make_life_choices  generosity  \\\n",
       "0                              50.5                         0.718       0.164   \n",
       "1                              50.8                         0.679       0.187   \n",
       "2                              51.1                         0.600       0.118   \n",
       "3                              51.4                         0.496       0.160   \n",
       "4                              51.7                         0.531       0.234   \n",
       "\n",
       "   perceptions_of_corruption  positive_affect  negative_affect  \n",
       "0                      0.882            0.414            0.258  \n",
       "1                      0.850            0.481            0.237  \n",
       "2                      0.707            0.517            0.275  \n",
       "3                      0.731            0.480            0.267  \n",
       "4                      0.776            0.614            0.268  "
      ]
     },
     "execution_count": 4,
     "metadata": {},
     "output_type": "execute_result"
    }
   ],
   "source": [
    "columns_to_rename = {i: \"_\".join(i.split(\" \")).lower() for i in df.columns}\n",
    "df = df.rename(columns=columns_to_rename)\n",
    "df.head()"
   ]
  },
  {
   "cell_type": "code",
   "execution_count": 5,
   "id": "a6644071",
   "metadata": {
    "execution": {
     "iopub.execute_input": "2024-05-29T21:13:05.486291Z",
     "iopub.status.busy": "2024-05-29T21:13:05.485307Z",
     "iopub.status.idle": "2024-05-29T21:13:05.497233Z",
     "shell.execute_reply": "2024-05-29T21:13:05.495884Z"
    },
    "papermill": {
     "duration": 0.024344,
     "end_time": "2024-05-29T21:13:05.499613",
     "exception": false,
     "start_time": "2024-05-29T21:13:05.475269",
     "status": "completed"
    },
    "tags": []
   },
   "outputs": [
    {
     "data": {
      "text/plain": [
       "0       Afghanistan\n",
       "15          Albania\n",
       "31          Algeria\n",
       "42           Angola\n",
       "46        Argentina\n",
       "           ...     \n",
       "2278      Venezuela\n",
       "2296        Vietnam\n",
       "2314          Yemen\n",
       "2328         Zambia\n",
       "2345       Zimbabwe\n",
       "Name: country_name, Length: 165, dtype: object"
      ]
     },
     "execution_count": 5,
     "metadata": {},
     "output_type": "execute_result"
    }
   ],
   "source": [
    "df['country_name'].drop_duplicates()\n"
   ]
  },
  {
   "cell_type": "markdown",
   "id": "7d64a26e",
   "metadata": {
    "papermill": {
     "duration": 0.007879,
     "end_time": "2024-05-29T21:13:05.515980",
     "exception": false,
     "start_time": "2024-05-29T21:13:05.508101",
     "status": "completed"
    },
    "tags": []
   },
   "source": [
    "Unfortunately (for this notebook) this is a clean dataset that has already been prepared, so I wont be doing any data cleaning or transformations in this notebook, but that is the goal for future work. "
   ]
  },
  {
   "cell_type": "markdown",
   "id": "73e3a427",
   "metadata": {
    "papermill": {
     "duration": 0.007933,
     "end_time": "2024-05-29T21:13:05.531982",
     "exception": false,
     "start_time": "2024-05-29T21:13:05.524049",
     "status": "completed"
    },
    "tags": []
   },
   "source": [
    "## Data Exploration"
   ]
  },
  {
   "cell_type": "markdown",
   "id": "515d4eea",
   "metadata": {
    "papermill": {
     "duration": 0.007915,
     "end_time": "2024-05-29T21:13:05.548110",
     "exception": false,
     "start_time": "2024-05-29T21:13:05.540195",
     "status": "completed"
    },
    "tags": []
   },
   "source": [
    "First of all i will display some summary statistics for the data set;"
   ]
  },
  {
   "cell_type": "code",
   "execution_count": 6,
   "id": "65945661",
   "metadata": {
    "execution": {
     "iopub.execute_input": "2024-05-29T21:13:05.566452Z",
     "iopub.status.busy": "2024-05-29T21:13:05.565840Z",
     "iopub.status.idle": "2024-05-29T21:13:05.605912Z",
     "shell.execute_reply": "2024-05-29T21:13:05.604763Z"
    },
    "papermill": {
     "duration": 0.051817,
     "end_time": "2024-05-29T21:13:05.608124",
     "exception": false,
     "start_time": "2024-05-29T21:13:05.556307",
     "status": "completed"
    },
    "tags": []
   },
   "outputs": [
    {
     "data": {
      "text/html": [
       "<div>\n",
       "<style scoped>\n",
       "    .dataframe tbody tr th:only-of-type {\n",
       "        vertical-align: middle;\n",
       "    }\n",
       "\n",
       "    .dataframe tbody tr th {\n",
       "        vertical-align: top;\n",
       "    }\n",
       "\n",
       "    .dataframe thead th {\n",
       "        text-align: right;\n",
       "    }\n",
       "</style>\n",
       "<table border=\"1\" class=\"dataframe\">\n",
       "  <thead>\n",
       "    <tr style=\"text-align: right;\">\n",
       "      <th></th>\n",
       "      <th>year</th>\n",
       "      <th>life_ladder</th>\n",
       "      <th>log_gdp_per_capita</th>\n",
       "      <th>social_support</th>\n",
       "      <th>healthy_life_expectancy_at_birth</th>\n",
       "      <th>freedom_to_make_life_choices</th>\n",
       "      <th>generosity</th>\n",
       "      <th>perceptions_of_corruption</th>\n",
       "      <th>positive_affect</th>\n",
       "      <th>negative_affect</th>\n",
       "    </tr>\n",
       "  </thead>\n",
       "  <tbody>\n",
       "    <tr>\n",
       "      <th>count</th>\n",
       "      <td>2363.000000</td>\n",
       "      <td>2363.000000</td>\n",
       "      <td>2335.000000</td>\n",
       "      <td>2350.000000</td>\n",
       "      <td>2300.000000</td>\n",
       "      <td>2327.000000</td>\n",
       "      <td>2282.000000</td>\n",
       "      <td>2238.000000</td>\n",
       "      <td>2339.000000</td>\n",
       "      <td>2347.000000</td>\n",
       "    </tr>\n",
       "    <tr>\n",
       "      <th>mean</th>\n",
       "      <td>2014.763860</td>\n",
       "      <td>5.483566</td>\n",
       "      <td>9.399671</td>\n",
       "      <td>0.809369</td>\n",
       "      <td>63.401828</td>\n",
       "      <td>0.750282</td>\n",
       "      <td>0.000098</td>\n",
       "      <td>0.743971</td>\n",
       "      <td>0.651882</td>\n",
       "      <td>0.273151</td>\n",
       "    </tr>\n",
       "    <tr>\n",
       "      <th>std</th>\n",
       "      <td>5.059436</td>\n",
       "      <td>1.125522</td>\n",
       "      <td>1.152069</td>\n",
       "      <td>0.121212</td>\n",
       "      <td>6.842644</td>\n",
       "      <td>0.139357</td>\n",
       "      <td>0.161388</td>\n",
       "      <td>0.184865</td>\n",
       "      <td>0.106240</td>\n",
       "      <td>0.087131</td>\n",
       "    </tr>\n",
       "    <tr>\n",
       "      <th>min</th>\n",
       "      <td>2005.000000</td>\n",
       "      <td>1.281000</td>\n",
       "      <td>5.527000</td>\n",
       "      <td>0.228000</td>\n",
       "      <td>6.720000</td>\n",
       "      <td>0.228000</td>\n",
       "      <td>-0.340000</td>\n",
       "      <td>0.035000</td>\n",
       "      <td>0.179000</td>\n",
       "      <td>0.083000</td>\n",
       "    </tr>\n",
       "    <tr>\n",
       "      <th>25%</th>\n",
       "      <td>2011.000000</td>\n",
       "      <td>4.647000</td>\n",
       "      <td>8.506500</td>\n",
       "      <td>0.744000</td>\n",
       "      <td>59.195000</td>\n",
       "      <td>0.661000</td>\n",
       "      <td>-0.112000</td>\n",
       "      <td>0.687000</td>\n",
       "      <td>0.572000</td>\n",
       "      <td>0.209000</td>\n",
       "    </tr>\n",
       "    <tr>\n",
       "      <th>50%</th>\n",
       "      <td>2015.000000</td>\n",
       "      <td>5.449000</td>\n",
       "      <td>9.503000</td>\n",
       "      <td>0.834500</td>\n",
       "      <td>65.100000</td>\n",
       "      <td>0.771000</td>\n",
       "      <td>-0.022000</td>\n",
       "      <td>0.798500</td>\n",
       "      <td>0.663000</td>\n",
       "      <td>0.262000</td>\n",
       "    </tr>\n",
       "    <tr>\n",
       "      <th>75%</th>\n",
       "      <td>2019.000000</td>\n",
       "      <td>6.323500</td>\n",
       "      <td>10.392500</td>\n",
       "      <td>0.904000</td>\n",
       "      <td>68.552500</td>\n",
       "      <td>0.862000</td>\n",
       "      <td>0.093750</td>\n",
       "      <td>0.867750</td>\n",
       "      <td>0.737000</td>\n",
       "      <td>0.326000</td>\n",
       "    </tr>\n",
       "    <tr>\n",
       "      <th>max</th>\n",
       "      <td>2023.000000</td>\n",
       "      <td>8.019000</td>\n",
       "      <td>11.676000</td>\n",
       "      <td>0.987000</td>\n",
       "      <td>74.600000</td>\n",
       "      <td>0.985000</td>\n",
       "      <td>0.700000</td>\n",
       "      <td>0.983000</td>\n",
       "      <td>0.884000</td>\n",
       "      <td>0.705000</td>\n",
       "    </tr>\n",
       "  </tbody>\n",
       "</table>\n",
       "</div>"
      ],
      "text/plain": [
       "              year  life_ladder  log_gdp_per_capita  social_support  \\\n",
       "count  2363.000000  2363.000000         2335.000000     2350.000000   \n",
       "mean   2014.763860     5.483566            9.399671        0.809369   \n",
       "std       5.059436     1.125522            1.152069        0.121212   \n",
       "min    2005.000000     1.281000            5.527000        0.228000   \n",
       "25%    2011.000000     4.647000            8.506500        0.744000   \n",
       "50%    2015.000000     5.449000            9.503000        0.834500   \n",
       "75%    2019.000000     6.323500           10.392500        0.904000   \n",
       "max    2023.000000     8.019000           11.676000        0.987000   \n",
       "\n",
       "       healthy_life_expectancy_at_birth  freedom_to_make_life_choices  \\\n",
       "count                       2300.000000                   2327.000000   \n",
       "mean                          63.401828                      0.750282   \n",
       "std                            6.842644                      0.139357   \n",
       "min                            6.720000                      0.228000   \n",
       "25%                           59.195000                      0.661000   \n",
       "50%                           65.100000                      0.771000   \n",
       "75%                           68.552500                      0.862000   \n",
       "max                           74.600000                      0.985000   \n",
       "\n",
       "        generosity  perceptions_of_corruption  positive_affect  \\\n",
       "count  2282.000000                2238.000000      2339.000000   \n",
       "mean      0.000098                   0.743971         0.651882   \n",
       "std       0.161388                   0.184865         0.106240   \n",
       "min      -0.340000                   0.035000         0.179000   \n",
       "25%      -0.112000                   0.687000         0.572000   \n",
       "50%      -0.022000                   0.798500         0.663000   \n",
       "75%       0.093750                   0.867750         0.737000   \n",
       "max       0.700000                   0.983000         0.884000   \n",
       "\n",
       "       negative_affect  \n",
       "count      2347.000000  \n",
       "mean          0.273151  \n",
       "std           0.087131  \n",
       "min           0.083000  \n",
       "25%           0.209000  \n",
       "50%           0.262000  \n",
       "75%           0.326000  \n",
       "max           0.705000  "
      ]
     },
     "execution_count": 6,
     "metadata": {},
     "output_type": "execute_result"
    }
   ],
   "source": [
    "df.describe()"
   ]
  },
  {
   "cell_type": "markdown",
   "id": "e48729fa",
   "metadata": {
    "papermill": {
     "duration": 0.008232,
     "end_time": "2024-05-29T21:13:05.625518",
     "exception": false,
     "start_time": "2024-05-29T21:13:05.617286",
     "status": "completed"
    },
    "tags": []
   },
   "source": [
    "As you can see we have some central tendency statistics including the mean and the median, we also have some variation statistics in the standard deviation and min/max. "
   ]
  },
  {
   "cell_type": "markdown",
   "id": "dd772edf",
   "metadata": {
    "papermill": {
     "duration": 0.008124,
     "end_time": "2024-05-29T21:13:05.642151",
     "exception": false,
     "start_time": "2024-05-29T21:13:05.634027",
     "status": "completed"
    },
    "tags": []
   },
   "source": [
    "# Plotting distributions"
   ]
  },
  {
   "cell_type": "code",
   "execution_count": 7,
   "id": "adfe1ba3",
   "metadata": {
    "execution": {
     "iopub.execute_input": "2024-05-29T21:13:05.661283Z",
     "iopub.status.busy": "2024-05-29T21:13:05.660378Z",
     "iopub.status.idle": "2024-05-29T21:13:05.667449Z",
     "shell.execute_reply": "2024-05-29T21:13:05.666455Z"
    },
    "papermill": {
     "duration": 0.018835,
     "end_time": "2024-05-29T21:13:05.669569",
     "exception": false,
     "start_time": "2024-05-29T21:13:05.650734",
     "status": "completed"
    },
    "tags": []
   },
   "outputs": [
    {
     "data": {
      "text/plain": [
       "Index(['log_gdp_per_capita', 'social_support',\n",
       "       'healthy_life_expectancy_at_birth', 'freedom_to_make_life_choices',\n",
       "       'generosity', 'perceptions_of_corruption', 'positive_affect',\n",
       "       'negative_affect'],\n",
       "      dtype='object')"
      ]
     },
     "execution_count": 7,
     "metadata": {},
     "output_type": "execute_result"
    }
   ],
   "source": [
    "columns_plot = (df.columns[3:11])\n",
    "columns_plot"
   ]
  },
  {
   "cell_type": "code",
   "execution_count": 8,
   "id": "3cd2d62e",
   "metadata": {
    "execution": {
     "iopub.execute_input": "2024-05-29T21:13:05.688628Z",
     "iopub.status.busy": "2024-05-29T21:13:05.687984Z",
     "iopub.status.idle": "2024-05-29T21:13:09.238023Z",
     "shell.execute_reply": "2024-05-29T21:13:09.237246Z"
    },
    "papermill": {
     "duration": 3.562075,
     "end_time": "2024-05-29T21:13:09.240311",
     "exception": false,
     "start_time": "2024-05-29T21:13:05.678236",
     "status": "completed"
    },
    "tags": []
   },
   "outputs": [
    {
     "name": "stderr",
     "output_type": "stream",
     "text": [
      "/opt/conda/lib/python3.10/site-packages/seaborn/_oldcore.py:1119: FutureWarning: use_inf_as_na option is deprecated and will be removed in a future version. Convert inf values to NaN before operating instead.\n",
      "  with pd.option_context('mode.use_inf_as_na', True):\n",
      "/opt/conda/lib/python3.10/site-packages/seaborn/_oldcore.py:1119: FutureWarning: use_inf_as_na option is deprecated and will be removed in a future version. Convert inf values to NaN before operating instead.\n",
      "  with pd.option_context('mode.use_inf_as_na', True):\n",
      "/opt/conda/lib/python3.10/site-packages/seaborn/_oldcore.py:1119: FutureWarning: use_inf_as_na option is deprecated and will be removed in a future version. Convert inf values to NaN before operating instead.\n",
      "  with pd.option_context('mode.use_inf_as_na', True):\n",
      "/opt/conda/lib/python3.10/site-packages/seaborn/_oldcore.py:1119: FutureWarning: use_inf_as_na option is deprecated and will be removed in a future version. Convert inf values to NaN before operating instead.\n",
      "  with pd.option_context('mode.use_inf_as_na', True):\n",
      "/opt/conda/lib/python3.10/site-packages/seaborn/_oldcore.py:1119: FutureWarning: use_inf_as_na option is deprecated and will be removed in a future version. Convert inf values to NaN before operating instead.\n",
      "  with pd.option_context('mode.use_inf_as_na', True):\n",
      "/opt/conda/lib/python3.10/site-packages/seaborn/_oldcore.py:1119: FutureWarning: use_inf_as_na option is deprecated and will be removed in a future version. Convert inf values to NaN before operating instead.\n",
      "  with pd.option_context('mode.use_inf_as_na', True):\n",
      "/opt/conda/lib/python3.10/site-packages/seaborn/_oldcore.py:1119: FutureWarning: use_inf_as_na option is deprecated and will be removed in a future version. Convert inf values to NaN before operating instead.\n",
      "  with pd.option_context('mode.use_inf_as_na', True):\n",
      "/opt/conda/lib/python3.10/site-packages/seaborn/_oldcore.py:1119: FutureWarning: use_inf_as_na option is deprecated and will be removed in a future version. Convert inf values to NaN before operating instead.\n",
      "  with pd.option_context('mode.use_inf_as_na', True):\n"
     ]
    },
    {
     "data": {
      "image/png": "[encoded data removed]",
      "text/plain": [
       "<Figure size 800x400 with 1 Axes>"
      ]
     },
     "metadata": {},
     "output_type": "display_data"
    },
    {
     "data": {
      "image/png": "[encoded data removed]",
      "text/plain": [
       "<Figure size 800x400 with 1 Axes>"
      ]
     },
     "metadata": {},
     "output_type": "display_data"
    },
    {
     "data": {
      "image/png": "[encoded data removed]",
      "text/plain": [
       "<Figure size 800x400 with 1 Axes>"
      ]
     },
     "metadata": {},
     "output_type": "display_data"
    },
    {
     "data": {
      "image/png": "[encoded data removed]",
      "text/plain": [
       "<Figure size 800x400 with 1 Axes>"
      ]
     },
     "metadata": {},
     "output_type": "display_data"
    },
    {
     "data": {
      "image/png": "[encoded data removed]",
      "text/plain": [
       "<Figure size 800x400 with 1 Axes>"
      ]
     },
     "metadata": {},
     "output_type": "display_data"
    },
    {
     "data": {
      "image/png": "[encoded data removed]",
      "text/plain": [
       "<Figure size 800x400 with 1 Axes>"
      ]
     },
     "metadata": {},
     "output_type": "display_data"
    },
    {
     "data": {
      "image/png": "[encoded data removed]",
      "text/plain": [
       "<Figure size 800x400 with 1 Axes>"
      ]
     },
     "metadata": {},
     "output_type": "display_data"
    },
    {
     "data": {
      "image/png": "[encoded data removed]",
      "text/plain": [
       "<Figure size 800x400 with 1 Axes>"
      ]
     },
     "metadata": {},
     "output_type": "display_data"
    }
   ],
   "source": [
    "for feature in columns_plot : \n",
    "    sns.displot(data=df, x=feature, height=4, aspect=2)"
   ]
  },
  {
   "cell_type": "markdown",
   "id": "cf2bd902",
   "metadata": {
    "papermill": {
     "duration": 0.012188,
     "end_time": "2024-05-29T21:13:09.264638",
     "exception": false,
     "start_time": "2024-05-29T21:13:09.252450",
     "status": "completed"
    },
    "tags": []
   },
   "source": [
    "# Density Plots"
   ]
  },
  {
   "cell_type": "markdown",
   "id": "043c9ddf",
   "metadata": {
    "papermill": {
     "duration": 0.011258,
     "end_time": "2024-05-29T21:13:09.287480",
     "exception": false,
     "start_time": "2024-05-29T21:13:09.276222",
     "status": "completed"
    },
    "tags": []
   },
   "source": [
    "I am going to have a look at density plot for the more interesting distributions:"
   ]
  },
  {
   "cell_type": "code",
   "execution_count": 9,
   "id": "560891ff",
   "metadata": {
    "execution": {
     "iopub.execute_input": "2024-05-29T21:13:09.312538Z",
     "iopub.status.busy": "2024-05-29T21:13:09.312158Z",
     "iopub.status.idle": "2024-05-29T21:13:09.660485Z",
     "shell.execute_reply": "2024-05-29T21:13:09.659500Z"
    },
    "papermill": {
     "duration": 0.363789,
     "end_time": "2024-05-29T21:13:09.663180",
     "exception": false,
     "start_time": "2024-05-29T21:13:09.299391",
     "status": "completed"
    },
    "tags": []
   },
   "outputs": [
    {
     "name": "stderr",
     "output_type": "stream",
     "text": [
      "/opt/conda/lib/python3.10/site-packages/seaborn/_oldcore.py:1119: FutureWarning: use_inf_as_na option is deprecated and will be removed in a future version. Convert inf values to NaN before operating instead.\n",
      "  with pd.option_context('mode.use_inf_as_na', True):\n"
     ]
    },
    {
     "data": {
      "text/plain": [
       "<Axes: xlabel='social_support', ylabel='Density'>"
      ]
     },
     "execution_count": 9,
     "metadata": {},
     "output_type": "execute_result"
    },
    {
     "data": {
      "image/png": "[encoded data removed]",
      "text/plain": [
       "<Figure size 640x480 with 1 Axes>"
      ]
     },
     "metadata": {},
     "output_type": "display_data"
    }
   ],
   "source": [
    "sns.kdeplot(df['social_support'], \n",
    "            color = 'darkblue')"
   ]
  },
  {
   "cell_type": "code",
   "execution_count": 10,
   "id": "8f549ed8",
   "metadata": {
    "execution": {
     "iopub.execute_input": "2024-05-29T21:13:09.689459Z",
     "iopub.status.busy": "2024-05-29T21:13:09.689044Z",
     "iopub.status.idle": "2024-05-29T21:13:10.017448Z",
     "shell.execute_reply": "2024-05-29T21:13:10.016341Z"
    },
    "papermill": {
     "duration": 0.344261,
     "end_time": "2024-05-29T21:13:10.019792",
     "exception": false,
     "start_time": "2024-05-29T21:13:09.675531",
     "status": "completed"
    },
    "tags": []
   },
   "outputs": [
    {
     "name": "stderr",
     "output_type": "stream",
     "text": [
      "/opt/conda/lib/python3.10/site-packages/seaborn/_oldcore.py:1119: FutureWarning: use_inf_as_na option is deprecated and will be removed in a future version. Convert inf values to NaN before operating instead.\n",
      "  with pd.option_context('mode.use_inf_as_na', True):\n"
     ]
    },
    {
     "data": {
      "text/plain": [
       "<Axes: xlabel='negative_affect', ylabel='Density'>"
      ]
     },
     "execution_count": 10,
     "metadata": {},
     "output_type": "execute_result"
    },
    {
     "data": {
      "image/png": "[encoded data removed]",
      "text/plain": [
       "<Figure size 640x480 with 1 Axes>"
      ]
     },
     "metadata": {},
     "output_type": "display_data"
    }
   ],
   "source": [
    "sns.kdeplot(df['negative_affect'], color='orange')"
   ]
  },
  {
   "cell_type": "code",
   "execution_count": 11,
   "id": "7bfecef2",
   "metadata": {
    "execution": {
     "iopub.execute_input": "2024-05-29T21:13:10.048222Z",
     "iopub.status.busy": "2024-05-29T21:13:10.047740Z",
     "iopub.status.idle": "2024-05-29T21:13:10.326744Z",
     "shell.execute_reply": "2024-05-29T21:13:10.325767Z"
    },
    "papermill": {
     "duration": 0.296124,
     "end_time": "2024-05-29T21:13:10.329321",
     "exception": false,
     "start_time": "2024-05-29T21:13:10.033197",
     "status": "completed"
    },
    "tags": []
   },
   "outputs": [
    {
     "name": "stderr",
     "output_type": "stream",
     "text": [
      "/opt/conda/lib/python3.10/site-packages/seaborn/_oldcore.py:1119: FutureWarning: use_inf_as_na option is deprecated and will be removed in a future version. Convert inf values to NaN before operating instead.\n",
      "  with pd.option_context('mode.use_inf_as_na', True):\n"
     ]
    },
    {
     "data": {
      "text/plain": [
       "<Axes: xlabel='perceptions_of_corruption', ylabel='Density'>"
      ]
     },
     "execution_count": 11,
     "metadata": {},
     "output_type": "execute_result"
    },
    {
     "data": {
      "image/png": "[encoded data removed]",
      "text/plain": [
       "<Figure size 640x480 with 1 Axes>"
      ]
     },
     "metadata": {},
     "output_type": "display_data"
    }
   ],
   "source": [
    "sns.kdeplot(df['perceptions_of_corruption'], color='green')"
   ]
  },
  {
   "cell_type": "code",
   "execution_count": 12,
   "id": "077a7c89",
   "metadata": {
    "execution": {
     "iopub.execute_input": "2024-05-29T21:13:10.362282Z",
     "iopub.status.busy": "2024-05-29T21:13:10.361220Z",
     "iopub.status.idle": "2024-05-29T21:13:10.656849Z",
     "shell.execute_reply": "2024-05-29T21:13:10.655933Z"
    },
    "papermill": {
     "duration": 0.315611,
     "end_time": "2024-05-29T21:13:10.659061",
     "exception": false,
     "start_time": "2024-05-29T21:13:10.343450",
     "status": "completed"
    },
    "tags": []
   },
   "outputs": [
    {
     "name": "stderr",
     "output_type": "stream",
     "text": [
      "/opt/conda/lib/python3.10/site-packages/seaborn/_oldcore.py:1119: FutureWarning: use_inf_as_na option is deprecated and will be removed in a future version. Convert inf values to NaN before operating instead.\n",
      "  with pd.option_context('mode.use_inf_as_na', True):\n"
     ]
    },
    {
     "data": {
      "text/plain": [
       "<Axes: xlabel='healthy_life_expectancy_at_birth', ylabel='Density'>"
      ]
     },
     "execution_count": 12,
     "metadata": {},
     "output_type": "execute_result"
    },
    {
     "data": {
      "image/png": "[encoded data removed]",
      "text/plain": [
       "<Figure size 640x480 with 1 Axes>"
      ]
     },
     "metadata": {},
     "output_type": "display_data"
    }
   ],
   "source": [
    "sns.kdeplot(df['healthy_life_expectancy_at_birth'], color= 'pink')"
   ]
  },
  {
   "cell_type": "code",
   "execution_count": 13,
   "id": "ef49b83c",
   "metadata": {
    "execution": {
     "iopub.execute_input": "2024-05-29T21:13:10.690085Z",
     "iopub.status.busy": "2024-05-29T21:13:10.689025Z",
     "iopub.status.idle": "2024-05-29T21:13:10.976378Z",
     "shell.execute_reply": "2024-05-29T21:13:10.975287Z"
    },
    "papermill": {
     "duration": 0.305003,
     "end_time": "2024-05-29T21:13:10.978620",
     "exception": false,
     "start_time": "2024-05-29T21:13:10.673617",
     "status": "completed"
    },
    "tags": []
   },
   "outputs": [
    {
     "name": "stderr",
     "output_type": "stream",
     "text": [
      "/opt/conda/lib/python3.10/site-packages/seaborn/_oldcore.py:1119: FutureWarning: use_inf_as_na option is deprecated and will be removed in a future version. Convert inf values to NaN before operating instead.\n",
      "  with pd.option_context('mode.use_inf_as_na', True):\n"
     ]
    },
    {
     "data": {
      "text/plain": [
       "<Axes: xlabel='freedom_to_make_life_choices', ylabel='Density'>"
      ]
     },
     "execution_count": 13,
     "metadata": {},
     "output_type": "execute_result"
    },
    {
     "data": {
      "image/png": "[encoded data removed]",
      "text/plain": [
       "<Figure size 640x480 with 1 Axes>"
      ]
     },
     "metadata": {},
     "output_type": "display_data"
    }
   ],
   "source": [
    "sns.kdeplot(df['freedom_to_make_life_choices'], color='purple')"
   ]
  },
  {
   "cell_type": "markdown",
   "id": "bc3a50b6",
   "metadata": {
    "papermill": {
     "duration": 0.014527,
     "end_time": "2024-05-29T21:13:11.007928",
     "exception": false,
     "start_time": "2024-05-29T21:13:10.993401",
     "status": "completed"
    },
    "tags": []
   },
   "source": [
    "Going to have a look at the densities for the social support of different countries:"
   ]
  },
  {
   "cell_type": "markdown",
   "id": "0f488214",
   "metadata": {
    "papermill": {
     "duration": 0.014567,
     "end_time": "2024-05-29T21:13:11.037376",
     "exception": false,
     "start_time": "2024-05-29T21:13:11.022809",
     "status": "completed"
    },
    "tags": []
   },
   "source": [
    "# Box Plots"
   ]
  },
  {
   "cell_type": "code",
   "execution_count": null,
   "id": "4be2ecce",
   "metadata": {
    "papermill": {
     "duration": 0.014825,
     "end_time": "2024-05-29T21:13:11.067363",
     "exception": false,
     "start_time": "2024-05-29T21:13:11.052538",
     "status": "completed"
    },
    "tags": []
   },
   "outputs": [],
   "source": []
  }
 ],
 "metadata": {
  "kaggle": {
   "accelerator": "none",
   "dataSources": [
    {
     "datasetId": 5110574,
     "sourceId": 8552086,
     "sourceType": "datasetVersion"
    }
   ],
   "dockerImageVersionId": 30698,
   "isGpuEnabled": false,
   "isInternetEnabled": true,
   "language": "python",
   "sourceType": "notebook"
  },
  "kernelspec": {
   "display_name": "Python 3",
   "language": "python",
   "name": "python3"
  },
  "language_info": {
   "codemirror_mode": {
    "name": "ipython",
    "version": 3
   },
   "file_extension": ".py",
   "mimetype": "text/x-python",
   "name": "python",
   "nbconvert_exporter": "python",
   "pygments_lexer": "ipython3",
   "version": "3.10.13"
  },
  "papermill": {
   "default_parameters": {},
   "duration": 11.550075,
   "end_time": "2024-05-29T21:13:11.702147",
   "environment_variables": {},
   "exception": null,
   "input_path": "__notebook__.ipynb",
   "output_path": "__notebook__.ipynb",
   "parameters": {},
   "start_time": "2024-05-29T21:13:00.152072",
   "version": "2.5.0"
  }
 },
 "nbformat": 4,
 "nbformat_minor": 5
}
